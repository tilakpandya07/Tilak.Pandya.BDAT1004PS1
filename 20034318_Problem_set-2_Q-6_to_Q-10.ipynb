{
 "cells": [
  {
   "cell_type": "markdown",
   "id": "aa85f79d",
   "metadata": {},
   "source": [
    "### Question 6 Python\n",
    "You can turn a word into pig-Latin using the following two rules(simplified):\n",
    "\n",
    "• If the word starts with a consonant, move that letter to the end and append 'ay'. For example, 'happy' becomes 'appyhay' and 'pencil' becomes 'encilpay'.\n",
    "\n",
    "• If the word starts with a vowel, simply append 'way' to the end of the word. For example, 'enter' becomes 'enterway' and 'other' becomes 'otherway' . For our purposes, there are 5 vowels: a, e, i, o, u (so we count y as a consonant). Write a function pig() that takes a word (i.e., a string) as input and returns its pigLatin form. Your function should still work if the input word contains upper case characters. Your output should always be lower case however."
   ]
  },
  {
   "cell_type": "code",
   "execution_count": 1,
   "id": "b64ec654",
   "metadata": {},
   "outputs": [],
   "source": [
    "def pig(word):\n",
    "    lower_word = word.lower()  # Convert the word to lowercase\n",
    "\n",
    "    # Check if the word starts with a vowel\n",
    "    if lower_word[0] in ['a', 'e', 'i', 'o', 'u']:\n",
    "        return lower_word + 'way'\n",
    "    else:\n",
    "        return lower_word[1:] + lower_word[0] + 'ay'"
   ]
  },
  {
   "cell_type": "code",
   "execution_count": 2,
   "id": "e77099ee",
   "metadata": {},
   "outputs": [
    {
     "name": "stdout",
     "output_type": "stream",
     "text": [
      "appyhay\n",
      "enterway\n"
     ]
    }
   ],
   "source": [
    "print(pig('happy'))  # Output: 'appyhay'\n",
    "print(pig('Enter'))  # Output: 'enterway'"
   ]
  },
  {
   "cell_type": "markdown",
   "id": "b8049a8d",
   "metadata": {},
   "source": [
    "### Question 7 Python\n",
    "File bloodtype1.txt records blood-types of patients (A, B, AB, O or OO) at a clinic. Write a function bldcount() that reads the file with name name and reports (i.e. prints) how many patients there are in each bloodtype."
   ]
  },
  {
   "cell_type": "code",
   "execution_count": 5,
   "id": "0ad6b15d",
   "metadata": {},
   "outputs": [
    {
     "name": "stdout",
     "output_type": "stream",
     "text": [
      "There are 15 patients of blood type A.\n",
      "There is one patient of blood type B.\n",
      "There are 13 patients of blood type AB.\n",
      "There are 15 patients of blood type O.\n",
      "There are 0 patients of blood type OO.\n"
     ]
    }
   ],
   "source": [
    "def bldcount(name):\n",
    "    blood_count = {'A': 0, 'B': 0, 'AB': 0, 'O': 0, 'OO': 0}\n",
    "\n",
    "    with open(name, 'r') as file:\n",
    "        for line in file:\n",
    "            blood_types = line.strip().split()\n",
    "            for blood_type in blood_types:\n",
    "                blood_count[blood_type] += 1\n",
    "\n",
    "    for blood_type, count in blood_count.items():\n",
    "        if count == 1:\n",
    "            print(f\"There is one patient of blood type {blood_type}.\")\n",
    "        else:\n",
    "            print(f\"There are {count} patients of blood type {blood_type}.\")\n",
    "\n",
    "bldcount('bloodtype1.txt')"
   ]
  },
  {
   "cell_type": "markdown",
   "id": "5bc85322",
   "metadata": {},
   "source": [
    "### Question 8 Python\n",
    "Write a function curconv() that takes as input:\n",
    "1. a currency represented using a string (e.g., 'JPY' for the Japanese Yen or 'EUR' for the Euro)\n",
    "2. an amount and then converts and returns the amount in US dollars."
   ]
  },
  {
   "cell_type": "code",
   "execution_count": 6,
   "id": "2002142a",
   "metadata": {},
   "outputs": [
    {
     "name": "stdout",
     "output_type": "stream",
     "text": [
      "122.96544\n",
      "1.241401\n"
     ]
    }
   ],
   "source": [
    "def curconv(currency, amount):\n",
    "    currency_rates = {}\n",
    "\n",
    "    # Read currency rates from file and store them in the dictionary\n",
    "    with open('currencies.txt', 'r') as file:\n",
    "        for line in file:\n",
    "            parts = line.strip().split()\n",
    "            currency_code = parts[0]\n",
    "            rate = float(parts[1])\n",
    "            currency_rates[currency_code] = rate\n",
    "\n",
    "    # Convert the amount to USD\n",
    "    if currency in currency_rates:\n",
    "        usd_amount = amount * currency_rates[currency]\n",
    "        return usd_amount\n",
    "    else:\n",
    "        return \"Currency code not found.\"\n",
    "\n",
    "# Test cases\n",
    "print(curconv('EUR', 100))\n",
    "print(curconv('JPY', 100))"
   ]
  },
  {
   "cell_type": "markdown",
   "id": "743ac522",
   "metadata": {},
   "source": [
    "### Question 9 Python\n",
    "Each of the following will cause an exception (an error). Identify what type of exception each will cause.\n",
    "\n",
    "i) Trying to add incompatible variables, as in adding 6 + ‘a’\n",
    "    \n",
    ">The code 6 + 'a' will cause a TypeError exception. This is because it is not possible to add an integer (6) and a string ('a') together. The types of the operands are incompatible for the addition operation.\n"
   ]
  },
  {
   "cell_type": "code",
   "execution_count": 7,
   "id": "d0f481ad",
   "metadata": {},
   "outputs": [
    {
     "name": "stdout",
     "output_type": "stream",
     "text": [
      "An exception occurred: unsupported operand type(s) for +: 'int' and 'str'\n"
     ]
    }
   ],
   "source": [
    "try:\n",
    "    result = 6 + 'a'\n",
    "    print(result)\n",
    "except TypeError as e:\n",
    "    print(\"An exception occurred:\", e)"
   ]
  },
  {
   "cell_type": "markdown",
   "id": "89b58bc3",
   "metadata": {},
   "source": [
    "ii) Referring to the 12th item of a list that has only 10 items\n",
    "> In this case, trying to access the 12th item of a list that has only 10 items will result in an IndexError exception.\n",
    "\n",
    "Here's an example that demonstrates this exception:"
   ]
  },
  {
   "cell_type": "code",
   "execution_count": 8,
   "id": "94f3a56f",
   "metadata": {},
   "outputs": [
    {
     "name": "stdout",
     "output_type": "stream",
     "text": [
      "An exception occurred: list index out of range\n"
     ]
    }
   ],
   "source": [
    "my_list = [1, 2, 3, 4, 5, 6, 7, 8, 9, 10]\n",
    "\n",
    "try:\n",
    "    item = my_list[11]\n",
    "    print(item)\n",
    "except IndexError as e:\n",
    "    print(\"An exception occurred:\", e)"
   ]
  },
  {
   "cell_type": "markdown",
   "id": "5065acd0",
   "metadata": {},
   "source": [
    "iii) Using a value that is out ofrange for a function’s input, such as calling math.sqrt(-1.0)\n",
    "> It will cause a ValueError exception. This is because the math.sqrt() function in Python expects a non-negative number as its input, and attempting to take the square root of a negative number is mathematically undefined.\n",
    "\n",
    "Here's an example that demonstrates this exception:"
   ]
  },
  {
   "cell_type": "code",
   "execution_count": 10,
   "id": "2faf7d6b",
   "metadata": {},
   "outputs": [
    {
     "name": "stdout",
     "output_type": "stream",
     "text": [
      "An exception occurred: math domain error\n"
     ]
    }
   ],
   "source": [
    "import math\n",
    "\n",
    "try:\n",
    "    result = math.sqrt(-1.0)\n",
    "    print(result)\n",
    "except ValueError as e:\n",
    "    print(\"An exception occurred:\", e)"
   ]
  },
  {
   "cell_type": "markdown",
   "id": "d6102fc2",
   "metadata": {},
   "source": [
    "iv) Using an undeclared variable, such as print(x) when x has not been defined.\n",
    "> It will cause a NameError exception. This occurs when you try to access a variable that has not been assigned a value or declared in the current scope.\n",
    "\n",
    "Here's an example that demonstrates this exception:"
   ]
  },
  {
   "cell_type": "code",
   "execution_count": 11,
   "id": "ee1b9c04",
   "metadata": {},
   "outputs": [
    {
     "name": "stdout",
     "output_type": "stream",
     "text": [
      "An exception occurred: name 'x' is not defined\n"
     ]
    }
   ],
   "source": [
    "try:\n",
    "    print(x)\n",
    "except NameError as e:\n",
    "    print(\"An exception occurred:\", e)"
   ]
  },
  {
   "cell_type": "markdown",
   "id": "2af363fc",
   "metadata": {},
   "source": [
    "v) Trying to open a file that does not exist, such as mistyping the file name or looking in the wrong directory.\n",
    "> It will cause a FileNotFoundError exception. This exception is raised when a file operation is performed on a file that does not exist or cannot be found.\n",
    "\n",
    "Here's an example that demonstrates this exception:"
   ]
  },
  {
   "cell_type": "code",
   "execution_count": 12,
   "id": "da988d55",
   "metadata": {},
   "outputs": [
    {
     "name": "stdout",
     "output_type": "stream",
     "text": [
      "An exception occurred: [Errno 2] No such file or directory: 'nonexistent_file.txt'\n"
     ]
    }
   ],
   "source": [
    "try:\n",
    "    file = open(\"nonexistent_file.txt\", \"r\")\n",
    "except FileNotFoundError as e:\n",
    "    print(\"An exception occurred:\", e)"
   ]
  },
  {
   "cell_type": "markdown",
   "id": "6604b7b7",
   "metadata": {},
   "source": [
    "### Question 10 Python\n",
    "Encryption is the process of hiding the meaning of a text by substituting letters in the message with other letters, according to some system. If the process is successful, no one but the intended recipient can understand the encrypted message. Cryptanalysis refers to attempts to undo the encryption, even if some details of the encryption are unknown (for example, if an encrypted message has been intercepted). The first step of cryptanalysis is often to build up a table of letter frequencies in the encrypted text. Assume that the string letters is already defined as 'abcdefghijklmnopqrstuvwxyz'. Write a function called frequencies() that takes a string as its only parameter, and returns a list of integers, showing the number of times each character appears in the text. Your function may ignore any characters that are not in letters.\n"
   ]
  },
  {
   "cell_type": "code",
   "execution_count": 14,
   "id": "1cc21165",
   "metadata": {},
   "outputs": [
    {
     "name": "stdout",
     "output_type": "stream",
     "text": [
      "[1, 1, 1, 3, 5, 1, 1, 2, 1, 0, 1, 0, 1, 2, 4, 0, 1, 2, 0, 3, 1, 0, 1, 1, 0, 0]\n"
     ]
    }
   ],
   "source": [
    "def frequencies(text):\n",
    "    letters = 'abcdefghijklmnopqrstuvwxyz'\n",
    "    frequency_list = []\n",
    "    text = text.lower()  # Convert the text to lowercase for case-insensitive comparison\n",
    "    \n",
    "    for letter in letters:\n",
    "        frequency = text.count(letter)  # Count the occurrences of each letter in the text\n",
    "        frequency_list.append(frequency)\n",
    "    \n",
    "    return frequency_list\n",
    "\n",
    "result = frequencies('The quick red fox got bored and went home.')\n",
    "print(result)"
   ]
  },
  {
   "cell_type": "code",
   "execution_count": null,
   "id": "7a029b12",
   "metadata": {},
   "outputs": [],
   "source": []
  }
 ],
 "metadata": {
  "kernelspec": {
   "display_name": "Python 3 (ipykernel)",
   "language": "python",
   "name": "python3"
  },
  "language_info": {
   "codemirror_mode": {
    "name": "ipython",
    "version": 3
   },
   "file_extension": ".py",
   "mimetype": "text/x-python",
   "name": "python",
   "nbconvert_exporter": "python",
   "pygments_lexer": "ipython3",
   "version": "3.9.13"
  }
 },
 "nbformat": 4,
 "nbformat_minor": 5
}

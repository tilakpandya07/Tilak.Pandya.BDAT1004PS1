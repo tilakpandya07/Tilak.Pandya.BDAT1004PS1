{
 "cells": [
  {
   "cell_type": "markdown",
   "id": "805e5dbf",
   "metadata": {},
   "source": [
    "### Question 1 C# - What data type is each of the following?"
   ]
  },
  {
   "cell_type": "code",
   "execution_count": 9,
   "id": "ddb8cc93",
   "metadata": {},
   "outputs": [
    {
     "name": "stdout",
     "output_type": "stream",
     "text": [
      "\n",
      "5 : System.Int32\n",
      "\n",
      "5 : System.Double\n",
      "\n",
      "True : System.Boolean\n",
      "\n",
      "5 : System.Char\n",
      "\n",
      "10 : System.Int32\n",
      "\n",
      "106 : System.Int32\n",
      "\n",
      "103 : System.Int32\n",
      "\n",
      "2 : System.Int32\n",
      "\n",
      "1 : System.Int32\n",
      "\n",
      "System.Int32[] : System.Int32[]\n",
      "\n",
      "False : System.Boolean\n",
      "\n",
      "3.141592653589793 : System.Double\n"
     ]
    }
   ],
   "source": [
    "getDataType(5);\n",
    "getDataType(5.0);\n",
    "getDataType(5 > 1);\n",
    "getDataType('5');\n",
    "getDataType(5 * 2);\n",
    "getDataType('5' * 2);\n",
    "getDataType('5' + '2');\n",
    "getDataType(5 / 2);\n",
    "getDataType(5 % 2);\n",
    "getDataType(new int[] { 5, 2, 1 });\n",
    "getDataType(5 == 3);\n",
    "getDataType(Math.PI);\n",
    "\n",
    "public static void getDataType(object i)\n",
    "{\n",
    "    Console.WriteLine(\"\\n\"+i +\" : \"+ i.GetType());\n",
    "}"
   ]
  },
  {
   "cell_type": "markdown",
   "id": "a019d51c",
   "metadata": {},
   "source": [
    "### Question 2 C# - Write (and evaluate) C# expressions that answer these questions:\n",
    "a. How many letters are there in 'Supercalifragilisticexpialidocious'?"
   ]
  },
  {
   "cell_type": "code",
   "execution_count": 11,
   "id": "81aa5e91",
   "metadata": {},
   "outputs": [
    {
     "name": "stdout",
     "output_type": "stream",
     "text": [
      "Number of letters: 34\r\n"
     ]
    }
   ],
   "source": [
    "string word = \"Supercalifragilisticexpialidocious\";\n",
    "int letterCount = word.Length;\n",
    "Console.WriteLine(\"Number of letters: \" + letterCount);"
   ]
  },
  {
   "cell_type": "markdown",
   "id": "fea18c75",
   "metadata": {},
   "source": [
    "b. Does 'Supercalifragilisticexpialidocious' contain 'ice' as a substring?"
   ]
  },
  {
   "cell_type": "code",
   "execution_count": 15,
   "id": "33b2b24d",
   "metadata": {},
   "outputs": [
    {
     "name": "stdout",
     "output_type": "stream",
     "text": [
      "Does it Contain 'ice' Word: True\r\n"
     ]
    }
   ],
   "source": [
    "bool containsIce = word.Contains(\"ice\");\n",
    "Console.WriteLine(\"Does it Contain 'ice' Word: \" + containsIce);"
   ]
  },
  {
   "cell_type": "markdown",
   "id": "1806b694",
   "metadata": {},
   "source": [
    "c. Which of the following words is the longest:\n",
    "Supercalifragilisticexpialidocious, Honorificabilitudinitatibus, or\n",
    "Bababadalgharaghtakamminarronnkonn?"
   ]
  },
  {
   "cell_type": "code",
   "execution_count": 16,
   "id": "7223da83",
   "metadata": {},
   "outputs": [
    {
     "name": "stdout",
     "output_type": "stream",
     "text": [
      "Longest word: Supercalifragilisticexpialidocious\r\n"
     ]
    }
   ],
   "source": [
    "string word1 = \"Supercalifragilisticexpialidocious\";\n",
    "string word2 = \"Honorificabilitudinitatibus\";\n",
    "string word3 = \"Bababadalgharaghtakamminarronnkonn\";\n",
    "\n",
    "string longestWord = word1;\n",
    "if (word2.Length > longestWord.Length)\n",
    "    longestWord = word2;\n",
    "if (word3.Length > longestWord.Length)\n",
    "    longestWord = word3;\n",
    "\n",
    "Console.WriteLine(\"Longest word: \" + longestWord);"
   ]
  },
  {
   "cell_type": "markdown",
   "id": "5dfa4ebf",
   "metadata": {},
   "source": [
    "d. Which composer comes first in the dictionary: 'Berlioz', 'Borodin', 'Brian',\n",
    "'Bartok', 'Bellini', 'Buxtehude', 'Bernstein'. Which one comes last?"
   ]
  },
  {
   "cell_type": "code",
   "execution_count": 17,
   "id": "9b253319",
   "metadata": {},
   "outputs": [
    {
     "name": "stdout",
     "output_type": "stream",
     "text": [
      "First composer: Bartok\n",
      "Last composer: Buxtehude\n"
     ]
    }
   ],
   "source": [
    "string[] composers = { \"Berlioz\", \"Borodin\", \"Brian\", \"Bartok\", \"Bellini\", \"Buxtehude\", \"Bernstein\" };\n",
    "Array.Sort(composers);\n",
    "\n",
    "string firstComposer = composers[0];\n",
    "string lastComposer = composers[composers.Length - 1];\n",
    "\n",
    "Console.WriteLine(\"First composer: \" + firstComposer);\n",
    "Console.WriteLine(\"Last composer: \" + lastComposer);"
   ]
  },
  {
   "cell_type": "markdown",
   "id": "c5fc4ffd",
   "metadata": {},
   "source": [
    "### Question 3 C# Implement function triangleArea(a,b,c) that takes as input the lengths of the 3 sides of a triangle and returns the area of the triangle. By Heron's formula, the area of a triangle with side lengths a, b, and c is s(s − a)(s −b)(s −c), where s = (a + b + c)/2.\n"
   ]
  },
  {
   "cell_type": "code",
   "execution_count": 26,
   "id": "23af5a18",
   "metadata": {},
   "outputs": [
    {
     "name": "stdout",
     "output_type": "stream",
     "text": [
      "1.7320508075688772\r\n"
     ]
    }
   ],
   "source": [
    "using System;\n",
    "\n",
    "public class Program\n",
    "{\n",
    "    public static double TriangleArea(double a, double b, double c)\n",
    "    {\n",
    "        double s = (a + b + c) / 2;\n",
    "        double area = Math.Sqrt(s * (s - a) * (s - b) * (s - c));\n",
    "        return area;\n",
    "    }\n",
    "}\n",
    "\n",
    "double side1 = 2;\n",
    "double side2 = 2;\n",
    "double side3 = 2;\n",
    "\n",
    "double area = Program.TriangleArea(side1, side2, side3);\n",
    "Console.WriteLine(area);"
   ]
  },
  {
   "cell_type": "markdown",
   "id": "ca770941",
   "metadata": {},
   "source": [
    "### Question 4 C# Write a program in C# Sharp to separate odd and even integers in separate arrays.\n",
    "Go to the editor\n",
    "\n",
    "Test Data :\n",
    "\n",
    "Input the number of elements to be stored in the array :5\n",
    "\n",
    "Input 5 elements in the array :\n",
    "\n",
    "element - 0 : 25\n",
    "\n",
    "element - 1 : 47\n",
    "\n",
    "element - 2 : 42\n",
    "\n",
    "element - 3 : 56\n",
    "\n",
    "element - 4 : 32\n",
    "\n",
    "Expected Output:\n",
    "\n",
    "The Even elements are:\n",
    "\n",
    "42 56 32\n",
    "\n",
    "The Odd elements are :\n",
    "\n",
    "25 47"
   ]
  },
  {
   "cell_type": "code",
   "execution_count": 32,
   "id": "ae8b3a0a",
   "metadata": {},
   "outputs": [
    {
     "name": "stdout",
     "output_type": "stream",
     "text": [
      "The Even elements are:\n",
      "42 56 32 \n",
      "The Odd elements are:\n",
      "25 47 "
     ]
    }
   ],
   "source": [
    "using System;\n",
    "\n",
    "public class Program\n",
    "{\n",
    "    public static void SeparateOddAndEven(int[] arr)\n",
    "    {\n",
    "        int[] evenArray = new int[arr.Length];\n",
    "        int[] oddArray = new int[arr.Length];\n",
    "        int evenCount = 0;\n",
    "        int oddCount = 0;\n",
    "\n",
    "        for (int i = 0; i < arr.Length; i++)\n",
    "        {\n",
    "            if (arr[i] % 2 == 0)\n",
    "            {\n",
    "                evenArray[evenCount] = arr[i];\n",
    "                evenCount++;\n",
    "            }\n",
    "            else\n",
    "            {\n",
    "                oddArray[oddCount] = arr[i];\n",
    "                oddCount++;\n",
    "            }\n",
    "        }\n",
    "\n",
    "        Console.WriteLine(\"The Even elements are:\");\n",
    "        for (int i = 0; i < evenCount; i++)\n",
    "        {\n",
    "            Console.Write(evenArray[i] + \" \");\n",
    "        }\n",
    "\n",
    "        Console.WriteLine(\"\\nThe Odd elements are:\");\n",
    "        for (int i = 0; i < oddCount; i++)\n",
    "        {\n",
    "            Console.Write(oddArray[i] + \" \");\n",
    "        }\n",
    "    }\n",
    "}\n",
    "\n",
    "// Test case\n",
    "int[] arr = { 25, 47, 42, 56, 32 };\n",
    "Program.SeparateOddAndEven(arr);"
   ]
  },
  {
   "cell_type": "markdown",
   "id": "90e6304c",
   "metadata": {},
   "source": [
    "### Question 5 C# \n",
    "a. Write a function inside(x,y,x1,y1,x2,y2) that returns True or False depending on whether the point(x,y) lies in the rectangle with lower left corner (x1,y1) and upper right corner (x2,y2)."
   ]
  },
  {
   "cell_type": "code",
   "execution_count": 40,
   "id": "19fbb841",
   "metadata": {},
   "outputs": [
    {
     "name": "stdout",
     "output_type": "stream",
     "text": [
      "True\n",
      "False\n"
     ]
    }
   ],
   "source": [
    "public class Rectangle\n",
    "{\n",
    "    public bool Inside(double x, double y, double x1, double y1, double x2, double y2)\n",
    "    {\n",
    "        if (x > x1 && x < x2 && y > y1 && y < y2)\n",
    "        {\n",
    "            return true;\n",
    "        }\n",
    "        return false;\n",
    "    }\n",
    "}\n",
    "\n",
    "Rectangle rectangle = new Rectangle();\n",
    "\n",
    "bool isInside = rectangle.Inside(1,1,0,0,2,3);\n",
    "Console.WriteLine(isInside);\n",
    "\n",
    "bool _isInside = rectangle.Inside(-1,-1,0,0,2,3);\n",
    "Console.WriteLine(_isInside);"
   ]
  },
  {
   "cell_type": "markdown",
   "id": "a677a76f",
   "metadata": {},
   "source": [
    "b. Use function inside()from part a. to write an expression that tests whether\n",
    "the point (1,1) lies in both of the following rectangles: one with lower left\n",
    "corner (0.3, 0.5) and upper right corner (1.1, 0.7) and the other with lower\n",
    "left corner (0.5, 0.2) and upper right corner (1.1, 2)."
   ]
  },
  {
   "cell_type": "code",
   "execution_count": 44,
   "id": "70d42a59",
   "metadata": {},
   "outputs": [
    {
     "name": "stdout",
     "output_type": "stream",
     "text": [
      "False\r\n"
     ]
    }
   ],
   "source": [
    "bool isInsideBothRectangles = rectangle.Inside(1,1,0.3,0.5,1.1,0.7) && rectangle.Inside(1,1,0.5,0.2,1.1,2);\n",
    "Console.WriteLine(isInsideBothRectangles);"
   ]
  },
  {
   "cell_type": "markdown",
   "id": "a451f2ed",
   "metadata": {},
   "source": []
  }
 ],
 "metadata": {
  "kernelspec": {
   "display_name": ".NET (C#)",
   "language": "C#",
   "name": ".net-csharp"
  },
  "language_info": {
   "file_extension": ".cs",
   "mimetype": "text/x-csharp",
   "name": "C#",
   "pygments_lexer": "csharp",
   "version": "11.0"
  }
 },
 "nbformat": 4,
 "nbformat_minor": 5
}
